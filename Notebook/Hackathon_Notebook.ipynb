{
 "cells": [
  {
   "cell_type": "markdown",
   "metadata": {},
   "source": [
    "### Importing required packages"
   ]
  },
  {
   "cell_type": "code",
   "execution_count": 1,
   "metadata": {},
   "outputs": [],
   "source": [
    "import pandas as pd\n",
    "from sklearn.model_selection import train_test_split\n",
    "from sklearn.feature_extraction.text import CountVectorizer\n",
    "from sklearn.linear_model import LogisticRegression\n",
    "from sklearn import metrics\n",
    "from nltk.stem.snowball import SnowballStemmer\n",
    "from sklearn.metrics import confusion_matrix\n",
    "from nltk.corpus import stopwords\n",
    "import pickle"
   ]
  },
  {
   "cell_type": "markdown",
   "metadata": {},
   "source": [
    "### Downloading stopwords package"
   ]
  },
  {
   "cell_type": "code",
   "execution_count": 18,
   "metadata": {},
   "outputs": [
    {
     "name": "stderr",
     "output_type": "stream",
     "text": [
      "[nltk_data] Downloading package stopwords to\n",
      "[nltk_data]     /home/jupyter/nltk_data...\n",
      "[nltk_data]   Package stopwords is already up-to-date!\n"
     ]
    }
   ],
   "source": [
    "import nltk\n",
    "nltk.download('stopwords')\n",
    "stop = stopwords.words('english')"
   ]
  },
  {
   "cell_type": "markdown",
   "metadata": {},
   "source": [
    "### Creating Stemmer Object"
   ]
  },
  {
   "cell_type": "code",
   "execution_count": 3,
   "metadata": {},
   "outputs": [],
   "source": [
    "from nltk.stem import PorterStemmer\n",
    "from nltk.tokenize import sent_tokenize, word_tokenize\n",
    "\n",
    "ps = PorterStemmer()"
   ]
  },
  {
   "cell_type": "markdown",
   "metadata": {},
   "source": [
    "### Read Dataset to pandas data frame"
   ]
  },
  {
   "cell_type": "code",
   "execution_count": 4,
   "metadata": {},
   "outputs": [
    {
     "data": {
      "text/html": [
       "<div>\n",
       "<style scoped>\n",
       "    .dataframe tbody tr th:only-of-type {\n",
       "        vertical-align: middle;\n",
       "    }\n",
       "\n",
       "    .dataframe tbody tr th {\n",
       "        vertical-align: top;\n",
       "    }\n",
       "\n",
       "    .dataframe thead th {\n",
       "        text-align: right;\n",
       "    }\n",
       "</style>\n",
       "<table border=\"1\" class=\"dataframe\">\n",
       "  <thead>\n",
       "    <tr style=\"text-align: right;\">\n",
       "      <th></th>\n",
       "      <th>Description</th>\n",
       "      <th>Issuetype</th>\n",
       "      <th>IssueCategory</th>\n",
       "      <th>label</th>\n",
       "    </tr>\n",
       "  </thead>\n",
       "  <tbody>\n",
       "    <tr>\n",
       "      <th>0</th>\n",
       "      <td>i have spit problem</td>\n",
       "      <td>spitting</td>\n",
       "      <td>Cleanliness</td>\n",
       "      <td>11</td>\n",
       "    </tr>\n",
       "    <tr>\n",
       "      <th>1</th>\n",
       "      <td>i have spit</td>\n",
       "      <td>spitting</td>\n",
       "      <td>Cleanliness</td>\n",
       "      <td>11</td>\n",
       "    </tr>\n",
       "    <tr>\n",
       "      <th>2</th>\n",
       "      <td>someone split in theatre</td>\n",
       "      <td>spitting</td>\n",
       "      <td>Cleanliness</td>\n",
       "      <td>11</td>\n",
       "    </tr>\n",
       "    <tr>\n",
       "      <th>3</th>\n",
       "      <td>smoking</td>\n",
       "      <td>smoking</td>\n",
       "      <td>Cleanliness</td>\n",
       "      <td>11</td>\n",
       "    </tr>\n",
       "    <tr>\n",
       "      <th>4</th>\n",
       "      <td>somebody spit</td>\n",
       "      <td>spitting</td>\n",
       "      <td>Cleanliness</td>\n",
       "      <td>11</td>\n",
       "    </tr>\n",
       "  </tbody>\n",
       "</table>\n",
       "</div>"
      ],
      "text/plain": [
       "                Description  Issuetype IssueCategory  label\n",
       "0       i have spit problem   spitting   Cleanliness     11\n",
       "1               i have spit   spitting   Cleanliness     11\n",
       "2  someone split in theatre   spitting   Cleanliness     11\n",
       "3                   smoking    smoking   Cleanliness     11\n",
       "4             somebody spit   spitting   Cleanliness     11"
      ]
     },
     "execution_count": 4,
     "metadata": {},
     "output_type": "execute_result"
    }
   ],
   "source": [
    "yelp = pd.read_csv(\"dataset.csv\",encoding = \"ISO-8859-1\")\n",
    "\n",
    "yelp.head()"
   ]
  },
  {
   "cell_type": "code",
   "execution_count": 5,
   "metadata": {},
   "outputs": [
    {
     "data": {
      "text/html": [
       "<div>\n",
       "<style scoped>\n",
       "    .dataframe tbody tr th:only-of-type {\n",
       "        vertical-align: middle;\n",
       "    }\n",
       "\n",
       "    .dataframe tbody tr th {\n",
       "        vertical-align: top;\n",
       "    }\n",
       "\n",
       "    .dataframe thead th {\n",
       "        text-align: right;\n",
       "    }\n",
       "</style>\n",
       "<table border=\"1\" class=\"dataframe\">\n",
       "  <thead>\n",
       "    <tr style=\"text-align: right;\">\n",
       "      <th></th>\n",
       "      <th>Description</th>\n",
       "      <th>Issuetype</th>\n",
       "      <th>IssueCategory</th>\n",
       "      <th>label</th>\n",
       "    </tr>\n",
       "  </thead>\n",
       "  <tbody>\n",
       "    <tr>\n",
       "      <th>0</th>\n",
       "      <td>i have spit problem</td>\n",
       "      <td>spitting</td>\n",
       "      <td>Cleanliness</td>\n",
       "      <td>11</td>\n",
       "    </tr>\n",
       "    <tr>\n",
       "      <th>1</th>\n",
       "      <td>i have spit</td>\n",
       "      <td>spitting</td>\n",
       "      <td>Cleanliness</td>\n",
       "      <td>11</td>\n",
       "    </tr>\n",
       "    <tr>\n",
       "      <th>2</th>\n",
       "      <td>someone split in theatre</td>\n",
       "      <td>spitting</td>\n",
       "      <td>Cleanliness</td>\n",
       "      <td>11</td>\n",
       "    </tr>\n",
       "    <tr>\n",
       "      <th>3</th>\n",
       "      <td>smoking</td>\n",
       "      <td>smoking</td>\n",
       "      <td>Cleanliness</td>\n",
       "      <td>11</td>\n",
       "    </tr>\n",
       "    <tr>\n",
       "      <th>4</th>\n",
       "      <td>somebody spit</td>\n",
       "      <td>spitting</td>\n",
       "      <td>Cleanliness</td>\n",
       "      <td>11</td>\n",
       "    </tr>\n",
       "  </tbody>\n",
       "</table>\n",
       "</div>"
      ],
      "text/plain": [
       "                Description  Issuetype IssueCategory  label\n",
       "0       i have spit problem   spitting   Cleanliness     11\n",
       "1               i have spit   spitting   Cleanliness     11\n",
       "2  someone split in theatre   spitting   Cleanliness     11\n",
       "3                   smoking    smoking   Cleanliness     11\n",
       "4             somebody spit   spitting   Cleanliness     11"
      ]
     },
     "execution_count": 5,
     "metadata": {},
     "output_type": "execute_result"
    }
   ],
   "source": [
    "yelp.shape\n",
    "yelp_class = yelp[(yelp.label==11) | (yelp.label==12) | (yelp.label==21) | (yelp.label==22)]\n",
    "\n",
    "yelp_class.head(5)"
   ]
  },
  {
   "cell_type": "code",
   "execution_count": 6,
   "metadata": {},
   "outputs": [
    {
     "name": "stdout",
     "output_type": "stream",
     "text": [
      "0         i have spit problem\n",
      "1                 i have spit\n",
      "2     someone split in theatr\n",
      "3                       smoke\n",
      "4               somebody spit\n",
      "               ...           \n",
      "58         tap water as dirti\n",
      "59         sewage as overflow\n",
      "60           sewer as not cov\n",
      "61             road not clear\n",
      "62                 road damag\n",
      "Name: Description, Length: 63, dtype: object\n"
     ]
    }
   ],
   "source": [
    "# define X and y\n",
    "X = yelp.Description\n",
    "X.apply(lambda x: [item for item in x if item not in stop])\n",
    "\n",
    "def stem1(text1):\n",
    "    return ps.stem(text1)\n",
    "\n",
    "X=X.apply(stem1)\n",
    "print(X)"
   ]
  },
  {
   "cell_type": "code",
   "execution_count": 7,
   "metadata": {},
   "outputs": [
    {
     "name": "stdout",
     "output_type": "stream",
     "text": [
      "0     11\n",
      "1     11\n",
      "2     11\n",
      "3     11\n",
      "4     11\n",
      "      ..\n",
      "58    12\n",
      "59    12\n",
      "60    12\n",
      "61    11\n",
      "62    22\n",
      "Name: label, Length: 63, dtype: int64\n"
     ]
    },
    {
     "data": {
      "text/plain": [
       "(63,)"
      ]
     },
     "execution_count": 7,
     "metadata": {},
     "output_type": "execute_result"
    }
   ],
   "source": [
    "y = yelp_class.label\n",
    "print(y)\n",
    "y.shape"
   ]
  },
  {
   "cell_type": "markdown",
   "metadata": {},
   "source": [
    "### Spliting dataset into training set and test set"
   ]
  },
  {
   "cell_type": "code",
   "execution_count": 8,
   "metadata": {},
   "outputs": [],
   "source": [
    "X_train, X_test, y_train, y_test = train_test_split(X, y, random_state=1)"
   ]
  },
  {
   "cell_type": "markdown",
   "metadata": {},
   "source": [
    "### Tokenize and collect vocabulary"
   ]
  },
  {
   "cell_type": "code",
   "execution_count": 9,
   "metadata": {},
   "outputs": [
    {
     "data": {
      "text/plain": [
       "['as',\n",
       " 'borewell',\n",
       " 'broken',\n",
       " 'building',\n",
       " 'chemicals',\n",
       " 'children',\n",
       " 'cov',\n",
       " 'cracks',\n",
       " 'cutting',\n",
       " 'damag',\n",
       " 'dirti',\n",
       " 'dirtying',\n",
       " 'dog',\n",
       " 'electric',\n",
       " 'encroachment',\n",
       " 'factori',\n",
       " 'flyov',\n",
       " 'footpath',\n",
       " 'found',\n",
       " 'from',\n",
       " 'fumigation',\n",
       " 'garbag',\n",
       " 'garbage',\n",
       " 'garden',\n",
       " 'hang',\n",
       " 'have',\n",
       " 'in',\n",
       " 'is',\n",
       " 'leaking',\n",
       " 'litt',\n",
       " 'littered',\n",
       " 'loc',\n",
       " 'near',\n",
       " 'not',\n",
       " 'oil',\n",
       " 'old',\n",
       " 'on',\n",
       " 'overflow',\n",
       " 'pav',\n",
       " 'pen',\n",
       " 'person',\n",
       " 'pol',\n",
       " 'poop',\n",
       " 'potholes',\n",
       " 'problem',\n",
       " 'publ',\n",
       " 'road',\n",
       " 'sewage',\n",
       " 'sewer',\n",
       " 'shaking',\n",
       " 'smoke',\n",
       " 'smoking',\n",
       " 'societi',\n",
       " 'somebody',\n",
       " 'someone',\n",
       " 'spilled',\n",
       " 'spit',\n",
       " 'split',\n",
       " 'structur',\n",
       " 'swamped',\n",
       " 'tap',\n",
       " 'the',\n",
       " 'theatr',\n",
       " 'throwing',\n",
       " 'trees',\n",
       " 'very',\n",
       " 'wal',\n",
       " 'water',\n",
       " 'wires',\n",
       " 'with']"
      ]
     },
     "execution_count": 9,
     "metadata": {},
     "output_type": "execute_result"
    }
   ],
   "source": [
    "# use CountVectorizer to create document-term matrices from X_train and X_test\n",
    "vect = CountVectorizer()\n",
    "X_train_dtm = vect.fit_transform(X_train)\n",
    "X_test_dtm = vect.transform(X_test)\n",
    "vect.get_feature_names()"
   ]
  },
  {
   "cell_type": "markdown",
   "metadata": {},
   "source": [
    "### Creating Logisitic Regression Model for dataset \n",
    "#### Four Classifier for Identifying the Category and Sentiment \n",
    "##### 11 - Cleanliness & Low Importance Issue\n",
    "##### 12 - Cleanliness & High Importance Issue\n",
    "##### 21 - Infrastructure & Low Importance Issue\n",
    "##### 22 - Infrastructure & High Importance Issue"
   ]
  },
  {
   "cell_type": "code",
   "execution_count": 10,
   "metadata": {},
   "outputs": [
    {
     "name": "stdout",
     "output_type": "stream",
     "text": [
      "0.8125\n"
     ]
    }
   ],
   "source": [
    "# create a model use logistic regression with text column only\n",
    "logreg = LogisticRegression(C=1e9)\n",
    "logreg.fit(X_train_dtm, y_train)\n",
    "#Do the prediction\n",
    "y_pred_class = logreg.predict(X_test_dtm)\n",
    "#check the model accuracy\n",
    "print(metrics.accuracy_score(y_test, y_pred_class))"
   ]
  },
  {
   "cell_type": "code",
   "execution_count": 11,
   "metadata": {},
   "outputs": [
    {
     "data": {
      "text/plain": [
       "array([[9, 1, 0, 0],\n",
       "       [1, 1, 0, 0],\n",
       "       [0, 0, 1, 0],\n",
       "       [0, 0, 1, 2]])"
      ]
     },
     "execution_count": 11,
     "metadata": {},
     "output_type": "execute_result"
    }
   ],
   "source": [
    "confusion_matrix(y_test, y_pred_class)"
   ]
  },
  {
   "cell_type": "markdown",
   "metadata": {},
   "source": [
    "### Confusion Matrix with test data set"
   ]
  },
  {
   "cell_type": "code",
   "execution_count": 12,
   "metadata": {},
   "outputs": [
    {
     "data": {
      "text/plain": [
       "<AxesSubplot:>"
      ]
     },
     "execution_count": 12,
     "metadata": {},
     "output_type": "execute_result"
    },
    {
     "data": {
      "image/png": "[encoded data removed]",
      "text/plain": [
       "<Figure size 432x288 with 2 Axes>"
      ]
     },
     "metadata": {
      "needs_background": "light"
     },
     "output_type": "display_data"
    }
   ],
   "source": [
    "import seaborn as sns\n",
    "sns.heatmap(confusion_matrix(y_test, y_pred_class), annot=True)"
   ]
  },
  {
   "cell_type": "code",
   "execution_count": 13,
   "metadata": {},
   "outputs": [
    {
     "name": "stdout",
     "output_type": "stream",
     "text": [
      "[[9 1 0 0]\n",
      " [1 1 0 0]\n",
      " [0 0 1 0]\n",
      " [0 0 1 2]]\n",
      "\n",
      "\n",
      "              precision    recall  f1-score   support\n",
      "\n",
      "          11       0.90      0.90      0.90        10\n",
      "          12       0.50      0.50      0.50         2\n",
      "          21       0.50      1.00      0.67         1\n",
      "          22       1.00      0.67      0.80         3\n",
      "\n",
      "    accuracy                           0.81        16\n",
      "   macro avg       0.72      0.77      0.72        16\n",
      "weighted avg       0.84      0.81      0.82        16\n",
      "\n"
     ]
    }
   ],
   "source": [
    "from sklearn.metrics import confusion_matrix, classification_report\n",
    "print(confusion_matrix(y_test, y_pred_class))\n",
    "print('\\n')\n",
    "print(classification_report(y_test, y_pred_class))"
   ]
  },
  {
   "cell_type": "markdown",
   "metadata": {},
   "source": [
    "### Save model to embed into the python web service"
   ]
  },
  {
   "cell_type": "code",
   "execution_count": 14,
   "metadata": {},
   "outputs": [],
   "source": [
    "# save the model to disk\n",
    "filename = 'hackathon_model.sav'\n",
    "pickle.dump(logreg, open(filename, 'wb'))\n",
    "vec_file = 'vectorizer.pickle'\n",
    "pickle.dump(vect, open(vec_file, 'wb'))"
   ]
  },
  {
   "cell_type": "markdown",
   "metadata": {},
   "source": [
    "### ReImporting Model and verifying with sample data"
   ]
  },
  {
   "cell_type": "code",
   "execution_count": 15,
   "metadata": {},
   "outputs": [],
   "source": [
    "import pickle\n",
    "import pandas as pd\n",
    "from sklearn.feature_extraction.text import CountVectorizer\n",
    "from sklearn.linear_model import LogisticRegression\n",
    "filename = 'hackathon_model.sav'\n",
    "loaded_model1 = pickle.load(open(filename, 'rb'))\n",
    "#vect = CountVectorizer()\n",
    "#self._vectorizer = vect"
   ]
  },
  {
   "cell_type": "code",
   "execution_count": 16,
   "metadata": {},
   "outputs": [],
   "source": [
    "import numpy as np\n",
    "data = np.array(['crack on road'])\n",
    "inputdata = pd.Series(data)\n",
    "X_test_dtm = vect.transform(inputdata)"
   ]
  },
  {
   "cell_type": "code",
   "execution_count": 17,
   "metadata": {},
   "outputs": [
    {
     "data": {
      "text/plain": [
       "array([21])"
      ]
     },
     "execution_count": 17,
     "metadata": {},
     "output_type": "execute_result"
    }
   ],
   "source": [
    "loaded_model1.predict(X_test_dtm)"
   ]
  }
 ],
 "metadata": {
  "environment": {
   "name": "common-cpu.m54",
   "type": "gcloud",
   "uri": "gcr.io/deeplearning-platform-release/base-cpu:m54"
  },
  "kernelspec": {
   "display_name": "Python 3",
   "language": "python",
   "name": "python3"
  },
  "language_info": {
   "codemirror_mode": {
    "name": "ipython",
    "version": 3
   },
   "file_extension": ".py",
   "mimetype": "text/x-python",
   "name": "python",
   "nbconvert_exporter": "python",
   "pygments_lexer": "ipython3",
   "version": "3.7.8"
  }
 },
 "nbformat": 4,
 "nbformat_minor": 4
}
